{
 "cells": [
  {
   "cell_type": "markdown",
   "metadata": {},
   "source": [
    "**Reminder:**\n",
    "<ul>\n",
    "<li>The laminar flow creates less skin friction drag than the turbulent flow, but is less stable\n",
    "<li>\n",
    "Friction Drag is created in the boundary layer due to the viscosity of the fluid and the resulting friction against the surface of the structure.\n",
    "</ul>"
   ]
  },
  {
   "cell_type": "code",
   "execution_count": 1,
   "metadata": {},
   "outputs": [],
   "source": [
    "from IPython.core.display import HTML\n",
    "HTML(\"\"\"\n",
    "<script type=\"text/x-mathjax-config\">\n",
    "  MathJax.Hub.Config({\n",
    "    \"HTML-CSS\": {\n",
    "        availableFonts: [\"TeX\"],\n",
    "        preferredFont: \"TeX\",\n",
    "        webFont: \"TeX\"\n",
    "    }\n",
    "   });\n",
    "</script>\n",
    "<script type=\"text/javascript\" src=\"path-to-MathJax/MathJax.js\">\n",
    "</script>\n",
    "<style>\n",
    "\n",
    "div.cell { /* Tunes the space between cells */\n",
    "margin-top:1em;\n",
    "margin-bottom:1em;\n",
    "margin-right:0em;\n",
    "margin-left:0em;\n",
    "}\n",
    "\n",
    "div.text_cell_render h1 { /* Main titles bigger, centered */\n",
    "font-size: 2.0em;\n",
    "line-height:1.4em;\n",
    "text-align:center;\n",
    "}\n",
    "\n",
    "div.text_cell_render h2 { /*  Parts names nearer from text */\n",
    "margin-bottom: 0em;\n",
    "}\n",
    "div.text_cell_render { /* Customize text cells */\n",
    "font-size:3.9em;\n",
    "line-height:2em;\n",
    "padding-left:3em;\n",
    "padding-right:3em;\n",
    "}\n",
    ".MathJax { font-size: 1.6em !important; }\n",
    ".container { width:80% !important; }\n",
    ".output_png {\n",
    "    display: flex;\n",
    "    align-items: center;\n",
    "    text-align: center;\n",
    "}\n",
    ".output {\n",
    "    display: flex;\n",
    "    align-items: center;\n",
    "}\n",
    "</style>\n",
    "\"\"\")\n"
   ]
  },
  {
   "cell_type": "markdown",
   "metadata": {},
   "source": [
    "### Summary"
   ]
  },
  {
   "cell_type": "markdown",
   "metadata": {},
   "source": [
    "<p>\n",
    "<big>\n",
    "    Skin friction drag reduction of surfaces with sinusoidal riblet (*wrinkled texture*) aligned in the flow direction and the effect of surface texture on the evolution of a laminar boundary layer flow has been studied numerically (using OpenFOAM). The parameter space unedr study includes:\n",
    "<ul>\n",
    "<li>wavelength to plate length ratios($\\frac{\\lambda}{L}$)\n",
    "<li>aspect ratios $\\frac{2A}{\\lambda}$ where $A$ is the amplitude of the sine function\n",
    "<li>Inlet velocity (plug flow)</li>\n",
    "    </ul>\n",
    "\n",
    "\n",
    "<p>\n",
    "Their results show that:\n",
    "<ul>\n",
    "<li>The riblets are able to retard the viscous flow inside the groovesin the laminar regime by creating a cushion of stagnant fluid. that The high-speed fluid above can partially slide over this stagnant fluid and thus reducing the shear stress inside the grooves and total viscous drag on the plate.\n",
    "<br><br>\n",
    "<li> The optimal riblet aspect ratio for drag reduction has been found by assessing the variation of boundary layer thickness, local average shear stress distribution, and total drag force with the aspect ratio of the riblets as well as the length of the plate.\n",
    "    </ul>\n",
    "    </big>"
   ]
  },
  {
   "cell_type": "markdown",
   "metadata": {},
   "source": [
    "**Parameter space to investigate the effect of geometry on drag reduction:**"
   ]
  },
  {
   "cell_type": "markdown",
   "metadata": {},
   "source": [
    "$$\n",
    "\\begin{array}{c}\n",
    "\\lambda=200 \\  \\mu m \\cr\n",
    "0 < \\frac{L}{\\lambda} < 191 \\cr\n",
    "AR = 0.48, 0.72, 0.95, 1.43, 1.91 \\cr\n",
    "h \\  (\\text{height of the domain}) = 1 \\ m \\ (\\text{constant}) \\cr\n",
    "Re_L < 5 \\times 10^5\n",
    "\\end{array}\n",
    "$$"
   ]
  },
  {
   "cell_type": "markdown",
   "metadata": {},
   "source": [
    "<big>The **Reynolds number** that characterizes the relative importance of inertial and viscous effects **is defined using the flow direction as the length scale** plus **the maximum velocity of the free stream ($W_{\\infty}$)** along the plate (determined after simulation).m"
   ]
  },
  {
   "cell_type": "markdown",
   "metadata": {},
   "source": [
    "$$\n",
    "Re_z = \\frac{W_{\\infty}z}{\\nu}\\text{, where} \\ \\   \\nu=\\frac{\\mu}{\\rho}\n",
    "$$"
   ]
  },
  {
   "cell_type": "markdown",
   "metadata": {},
   "source": [
    "### Boundary conditions"
   ]
  },
  {
   "cell_type": "markdown",
   "metadata": {},
   "source": [
    "<img src=\"images/BC.png\" alt=\"Drawing\" style=\"width: 1450px;\"/>"
   ]
  },
  {
   "cell_type": "markdown",
   "metadata": {},
   "source": [
    "### Definition of the coefficient of drag ($C_D$)\n"
   ]
  },
  {
   "cell_type": "markdown",
   "metadata": {},
   "source": [
    "$$\n",
    "C_D=\\frac{D}{\\frac{1}{2}\\rho W_{\\infty}^2 A_w}=\\frac{1}{\\frac{1}{2}\\rho W_{\\infty}^2 A_w}\\int_{A_w}(\\tau_w \\cdot n_w) \\cdot \\textbf{e}_z  \\ d  A_w\n",
    "$$"
   ]
  },
  {
   "cell_type": "markdown",
   "metadata": {},
   "source": [
    "where $D$ is the total drag force on the wall and $A_w$ is the wetted area.\n",
    "The drag coefficient on the wrinkled plate ($AR = 1.9$) is substantially lower than the flat plate, however, it should be noted that this drag coefficient **has been normalized by the total wetted area of the plate** and ***DOES NOT explicitly display the increase in the surface area due to the presence of the riblets.***"
   ]
  },
  {
   "cell_type": "markdown",
   "metadata": {},
   "source": [
    "**Benchmarked their theory with flat plate boundary layer (Blasius)** for friction coefficient ($C_f(z)=\\frac{\\tau_{yz}(y=0,\\ z)}{\\frac{1}{2}\\rho W_{\\infty}^2}=\\frac{0.664}{\\sqrt{Re_z}}$)"
   ]
  },
  {
   "cell_type": "markdown",
   "metadata": {},
   "source": [
    "### Peak versus groove velocity profile and boundary layer"
   ]
  },
  {
   "cell_type": "markdown",
   "metadata": {},
   "source": [
    "<img src=\"images/peak_vs_groove_1.png\" alt=\"Drawing\" style=\"width: 1500px;\"/>\n",
    "<img src=\"images/peak_vs_groove_2.png\" alt=\"Drawing\" style=\"width: 1500px;\"/>"
   ]
  },
  {
   "cell_type": "markdown",
   "metadata": {},
   "source": [
    "<big>***The velocity contours at the peak appear very similar to the flat plate boundary layer***\n",
    "   \n",
    "***Groove velocity profiles depicts a thicker boundary layer for which most of the region inside the groove has velocities lower than 25% of the free-stream velocity.***"
   ]
  },
  {
   "cell_type": "code",
   "execution_count": null,
   "metadata": {},
   "outputs": [],
   "source": []
  },
  {
   "cell_type": "code",
   "execution_count": null,
   "metadata": {},
   "outputs": [],
   "source": []
  },
  {
   "cell_type": "code",
   "execution_count": null,
   "metadata": {},
   "outputs": [],
   "source": []
  },
  {
   "cell_type": "markdown",
   "metadata": {},
   "source": [
    "# Simulation Setup"
   ]
  },
  {
   "cell_type": "markdown",
   "metadata": {},
   "source": [
    "Figure below shows the schematic of the fluid-structure-interaction (FSI) problem:"
   ]
  },
  {
   "cell_type": "markdown",
   "metadata": {},
   "source": [
    "<img src=\"im/schematic.png\" alt=\"Drawing\" style=\"width: 550px;\"/>"
   ]
  },
  {
   "cell_type": "markdown",
   "metadata": {},
   "source": [
    "Model parameters in the problem are:\n",
    "<li>Beam height (𝐿)\n",
    "<li>Beam thickness (2a)\n",
    "<li>Beam spacing (𝛿)\n",
    "<li>Beam angle (𝜃)\n",
    "<li>Beam stiffness (𝐸)\n",
    "<li>Number of beams (𝑁)\n",
    "<li>Wall velocity (𝑣)\n",
    "<li>Channel height (𝐻)\n",
    "<li>Viscosity (𝜂)\n",
    "\n",
    "    "
   ]
  },
  {
   "cell_type": "code",
   "execution_count": null,
   "metadata": {},
   "outputs": [],
   "source": []
  }
 ],
 "metadata": {
  "kernelspec": {
   "display_name": "Python 3",
   "language": "python",
   "name": "python3"
  },
  "language_info": {
   "codemirror_mode": {
    "name": "ipython",
    "version": 3
   },
   "file_extension": ".py",
   "mimetype": "text/x-python",
   "name": "python",
   "nbconvert_exporter": "python",
   "pygments_lexer": "ipython3",
   "version": "3.6.7"
  }
 },
 "nbformat": 4,
 "nbformat_minor": 2
}
