{
 "cells": [
  {
   "cell_type": "code",
   "execution_count": 5,
   "metadata": {},
   "outputs": [
    {
     "data": {
      "text/html": [
       "<style>\n",
       "    @font-face {\n",
       "        font-family: \"Computer Modern\";\n",
       "        font-size: 100%;\n",
       "        src: url('http://9dbb143991406a7c655e-aa5fcb0a5a4ec34cff238a2d56ca4144.r56.cf5.rackcdn.com/cmunss.otf');\n",
       "    }\n",
       "    @font-face {\n",
       "        font-family: \"Computer Modern\";\n",
       "        font-weight: bold;\n",
       "        font-size: 100%;\n",
       "        src: url('http://9dbb143991406a7c655e-aa5fcb0a5a4ec34cff238a2d56ca4144.r56.cf5.rackcdn.com/cmunsx.otf');\n",
       "    }\n",
       "    @font-face {\n",
       "        font-family: \"Computer Modern\";\n",
       "        font-style: oblique;\n",
       "        font-size: 100%;\n",
       "        src: url('http://9dbb143991406a7c655e-aa5fcb0a5a4ec34cff238a2d56ca4144.r56.cf5.rackcdn.com/cmunsi.otf');\n",
       "    }\n",
       "    @font-face {\n",
       "        font-family: \"Computer Modern\";\n",
       "        font-weight: bold;\n",
       "        font-style:oblique;\n",
       "        font-size: 100%;\n",
       "        src: url('http://9dbb143991406a7c655e-aa5fcb0a5a4ec34cff238a2d56ca4144.r56.cf5.rackcdn.com/cmunso.otf');\n",
       "    }\n",
       "    div.text_cell_render{\n",
       "        font-family: Computer Modern, \"Helvetica Neue\", Arial, Helvetica, Geneva, sans-serif;\n",
       "        line-height: 140%;\n",
       "        font-size: 100%; /* This affects the markdown cells */\n",
       "        width:1300px;\n",
       "        margin-left:2% !important;\n",
       "        margin-right:2% !important;\n",
       "    }\n",
       "    div.text_cell_render h1 {\n",
       "        font-family: Helvetica;\n",
       "    }\n",
       "    div.text_cell_render h2{\n",
       "        font-family: Helvetica;\n",
       "        margin-top:2% !important;\n",
       "        margin-bottom:2% !important;\n",
       "       }\n",
       "    div.text_cell_render h3{\n",
       "        font-family: Helvetica;\n",
       "        margin-top:2% !important;\n",
       "        margin-bottom:2% !important;\n",
       "       }\n",
       "    div.text_cell_render h4{\n",
       "        font-family: Computer Modern, !important;\n",
       "        margin-top:2% !important;\n",
       "        margin-bottom: 2% !important;\n",
       "       }\n",
       "    div.text_cell_render h5{\n",
       "        font-family: Geneva !important;\n",
       "        margin-top:2% !important;\n",
       "        margin-bottom:2% !important;\n",
       "       }\n",
       "    div.cell{\n",
       "        width:1400px;\n",
       "        margin-left:2% !important;\n",
       "        margin-right:5% !important;\n",
       "    }\n",
       "    .CodeMirror{\n",
       "            font-family: \"Source Code Pro\", source-code-pro,Consolas, monospace;\n",
       "    }\n",
       "    .CodeMirror pre {\n",
       "    font-family: Monaco;\n",
       "    font-size: 12pt; /* This affects the code cells */\n",
       "    line-height: 120%;\n",
       "    }\n",
       "    /*\n",
       "    .prompt{\n",
       "        display: None;\n",
       "    */\n",
       "    }\n",
       "    .text_cell_render h5 {\n",
       "        font-weight: 300;\n",
       "        font-size: 48pt;\n",
       "        color: #4057A1;\n",
       "        font-style: italic;\n",
       "        margin-bottom: .5em;\n",
       "        margin-top: 0.5em;\n",
       "        display: block;\n",
       "    }\n",
       "    \n",
       "    .warning{\n",
       "        color: rgb( 240, 20, 20 )\n",
       "        }  \n",
       "    .container { width:80% !important; }\n",
       "    .output_png {\n",
       "    display: flex;\n",
       "    align-items: center;\n",
       "    /*\n",
       "    text-align: center;\n",
       "    */\n",
       "    }\n",
       "    .output {\n",
       "    display: flex;\n",
       "    /*\n",
       "    align-items: center;\n",
       "    */\n",
       "    }\n",
       "    .MathJax { font-size: 100% !important; }\n",
       ".container { \n",
       "    width:80% !important; \n",
       "    font-size: 100% !important;}\n",
       ".output_png {\n",
       "    display: flex;\n",
       "    align-items: center;\n",
       "    text-align: center;\n",
       "}\n",
       ".output {\n",
       "    display: flex;\n",
       "    align-items: flex;/*center;*/\n",
       "    font-size: 100%;\n",
       "}\n",
       "</style>\n",
       "<script>\n",
       "    MathJax.Hub.Config({\n",
       "                        TeX: {\n",
       "                           extensions: [\"AMSmath.js\"]\n",
       "                           },\n",
       "                tex2jax: {\n",
       "                    inlineMath: [ ['$','$'], [\"\\\\(\",\"\\\\)\"] ],\n",
       "                    displayMath: [ ['$$','$$'], [\"\\\\[\",\"\\\\]\"] ]\n",
       "                },\n",
       "                displayAlign: 'center', // Change this to 'center' to center equations.\n",
       "                \"HTML-CSS\": {\n",
       "                    styles: {'.MathJax_Display': {\"margin\": 6}}\n",
       "                }\n",
       "        });\n",
       "</script>"
      ],
      "text/plain": [
       "<IPython.core.display.HTML object>"
      ]
     },
     "execution_count": 5,
     "metadata": {},
     "output_type": "execute_result"
    }
   ],
   "source": [
    "from IPython.core.display import HTML,Math\n",
    "def css_styling():\n",
    "    styles = open(\"custom.css\", \"r\").read() #or edit path to custom.css\n",
    "    return HTML(styles)\n",
    "css_styling()"
   ]
  },
  {
   "cell_type": "markdown",
   "metadata": {},
   "source": [
    "# Literature Review"
   ]
  },
  {
   "cell_type": "markdown",
   "metadata": {},
   "source": [
    "## Fluid–structure interaction involving large deformations: 3D simulations and applications to biological systems"
   ]
  },
  {
   "cell_type": "markdown",
   "metadata": {},
   "source": [
    "Reference: [Link](https://www.sciencedirect.com/science/article/pii/S0021999113007237)\n",
    "\n",
    "\n",
    "Authors: Fang-Bao Tian, Hu Daia, Haoxiang Luo1,a, James F. Doyle, and Bernard Rousseau\n",
    "\n",
    "*Department of Mechanical Engineering, Vanderbilt University, 2301 Vanderbilt Pl., Nashville, TN 37235-1592, USA<br><br>\n",
    "school of Aeronautics and Astronautics, Purdue University, West Lafayette, IN 47907-2045, USA<br><br>\n",
    "Departments of Otolaryngology and Hearing and Speech Sciences, Vanderbilt University Medical Center, 1313 21st Ave. S., Nashville, TN 37232-4480, USA*"
   ]
  },
  {
   "cell_type": "markdown",
   "metadata": {},
   "source": [
    "<big>**Section 4.6. FSI validation: bending of a flexible plate in cross flow**"
   ]
  },
  {
   "cell_type": "markdown",
   "metadata": {},
   "source": [
    "Their **goal** is to numerically validate the experimental results for a flexible plate that is bent by a cross flow. The experinetal results are obtained from *Luhar and Nepf* (***Flow-induced reconfiguration of buoyant and flexible aquatic vegetation*** [Link](https://aslopubs.onlinelibrary.wiley.com/doi/abs/10.4319/lo.2011.56.6.2003) )<br><br>\n",
    "The purpose of the experimental reference was to obtain a model to study the *deformation of aquatic plants by flow of water.*\n",
    "\n",
    "Figure below shows the schematic of the simulation setup that is used in this paper; \n",
    "\n",
    "An elastic plate of length $L$, width $b$, and thickness $h$ is vertically placed in a uniform flow of velocity $U_0$."
   ]
  },
  {
   "cell_type": "markdown",
   "metadata": {},
   "source": [
    "<img src=\"../images/schematic_ref_2.png\" alt=\"Drawing\" style=\"width: 350px;\"/>"
   ]
  },
  {
   "cell_type": "markdown",
   "metadata": {},
   "source": [
    "The following parameters were used in both the simulation and experiment:"
   ]
  },
  {
   "cell_type": "markdown",
   "metadata": {},
   "source": [
    "$$\n",
    "Re = \\frac{U_0b}{\\nu} = 1600, \\ \\ \\ \\ \\ \\ \\ \\ \n",
    "\\frac{L}{b} = 5,  \\ \\ \\ \\ \\ \\ \\ \\ \n",
    "\\frac{h}{b}= 0.2,  \\ \\ \\ \\ \\ \\ \\ \\ \n",
    "E^{*}=\\frac{E}{\\rho_f \\ U_0^2}=19054.5  \\ \\ \\ \\ \\ \\ \\ \\ \\\\\n",
    "\\nu_s = 0.4,  \\ \\ \\ \\ \\ \\ \\ \\\n",
    "\\rho^{*}= \\frac{\\rho_s}{\\rho_f}= 0.678, \\ \\ \\ \\  \\ \\ \\ \\ \n",
    "f^{*}_b=\\frac{(\\rho_f-\\rho_s)gh}{\\rho_f \\ U_0^2}=0.2465\n",
    "$$"
   ]
  },
  {
   "cell_type": "markdown",
   "metadata": {},
   "source": [
    "** The parameters that I used in my benchmark simulation**\n",
    "\n",
    "$$\n",
    "L = 0.2 \\ \\text{(L)}\\\\\n",
    "b = 0.04  \\ \\text{(L)}\\\\\n",
    "h = 0.008 \\ \\text{(L)}\\\\\n",
    "\\rho_{f}=1000 \\ \\big(\\frac{\\text{M}}{\\text{L}^3} \\big) \\\\\n",
    "\\nu_{f}=10^{-6} \\ \\big( \\frac{\\text{L}^2}{S} \\big) \\\\\n",
    "Re = \\frac{U_0b}{\\nu} = 1600 \\ \\ \\ \\rightarrow  \\ \\ U_0=\\frac{ Re \\ \\nu}{b} = \\frac{0.0016}{0.04} = 0.04 \\big(\\frac{\\text{L}}{\\text{S}} \\big) \\\\ \n",
    "E^{*}=\\frac{E}{\\rho_f \\ U_0^2}=19054.5  \\ \\ \\rightarrow \\ \\ 19054.5 \\times 1000 \\times 0.0016 = 30400 \\ \\big(\\frac{\\text{M}}{\\text{L}\\text{S}^2}\\big) \\\\\n",
    "\\rho^{*}= \\frac{\\rho_s}{\\rho_f}= 0.678, \\ \\ \\rightarrow \\ \\  \\rho_s=678 \\ \\big(\\frac{\\text{M}}{\\text{L}^3} \\big) \\\\\n",
    "f^{*}_b=\\frac{(\\rho_f-\\rho_s)gh}{\\rho_f \\ U_0^2}=0.2465\n",
    "$$\n",
    "\n",
    "\n",
    "\n"
   ]
  },
  {
   "cell_type": "markdown",
   "metadata": {},
   "source": [
    "Computational domain (rectangular box):\n",
    "\n",
    "($−5b, −8b, −8.5b$) to ($16b, 8b, 8.5b$)\n",
    "\n",
    "The center of the plate is located initially at the origin. \n",
    "\n",
    "grid: $200 \\times 160 \\times 190$ nonuniform grid with clustering around the plate and in the near- field wake) \n",
    "\n",
    "Min grid spacings are: $\\Delta x = 0.020, \\  \\Delta y = \\Delta z = 0.022b$"
   ]
  },
  {
   "cell_type": "markdown",
   "metadata": {},
   "source": [
    "**Baseline case versus the experimental data:**\n",
    "\n",
    "<img src=\"../images/sim_exp_ref2.png\" alt=\"Drawing\" style=\"width: 650px;\"/>"
   ]
  },
  {
   "cell_type": "markdown",
   "metadata": {},
   "source": [
    "(a) baseline simulations (b) photogrammetry in the experiment"
   ]
  },
  {
   "cell_type": "markdown",
   "metadata": {},
   "source": [
    "*Under the experimental condition, the flexible plate settles down to a steady configuration which reduces the drag as compared with the rigid plate*"
   ]
  },
  {
   "cell_type": "markdown",
   "metadata": {},
   "source": [
    "Table below shows the drag coefficient of the deformed plate, $C_D$, and the deflection in the $x$ and $z$ directions of the center of the free end, $D_x$ and $D_z$."
   ]
  },
  {
   "cell_type": "markdown",
   "metadata": {},
   "source": [
    " ** |$C_{_D}$ | ${D_x} /{b}$ | ${D_z} /{b}$ |\n",
    "-|-|-|-|\n",
    "Simulation | 1.03 | 2.12 | 0.54 |\n",
    "Experiment | 1.15 (10% error) | 2.14 | 0.59 | "
   ]
  },
  {
   "cell_type": "markdown",
   "metadata": {},
   "source": [
    "Drag coefficient is calculated using $C_D=\\frac{F_x}{0.5 \\  \\rho_f \\  U_{_0}^{2} \\  b \\  L }$, where $F_x$ is the total hydrodynamic force in the $x$ direction. \n",
    "\n",
    "This gives the total hydrodynamic force in the $x$ direction:\n",
    "\n",
    "$$\n",
    "F_x=\\frac{1}{2}\\big( C_D \\  \\rho_f \\  U_{_0}^{2} \\  b \\  L \\big)=\\frac{1}{2}\\big( 1.03 \\times  1000 \\times 0.0016 \\times 0.2 \\big)\n",
    "$$"
   ]
  },
  {
   "cell_type": "markdown",
   "metadata": {},
   "source": [
    "After validating their simulation with the experimental results, they expand their simulations to higher Reynolds number. The results are shown in the table below"
   ]
  },
  {
   "cell_type": "markdown",
   "metadata": {},
   "source": [
    "Bending of a flexible plate in cross flow: **deflection and the drag coefficient in the absence of gravity and buoyancy.**\n",
    "\n",
    "$Re$|$C_{_D}$ | ${D_x} /{b}$ | ${D_z} /{b}$ |\n",
    "-|-|-|-|\n",
    "100 | 1.02 | 2.34 | 0.67 | \n",
    "400 | 0.94 | 2.34 | 0.68 | \n",
    "800 | 0.94 | 2.39 | 0.71 | \n",
    "1200 | 0.93 | 2.41 | 0.73 | \n",
    "1600 | 0.94 | 2.45 | 0.75 | \n"
   ]
  },
  {
   "cell_type": "markdown",
   "metadata": {},
   "source": [
    "<ul>\n",
    "<li>The displacement of the plate at Re = 1600 in the absence of buoyancy is larger than that with buoyancy\n",
    "<li>Dx/b in Table above is 2.45 and is around 16% larger than the baseline case in Table\n",
    "    <li>The drag coefficient in the absence of buoyancy is lower than that with buoyancy\n",
    "        <li>The displacement increases with Re, which is in contrast with the 2D situation studied by Zhu et al. (lower Reynolds numbers, Re ≤ 100)\n",
    "           <li> The drag coefficient decreases as Re is increased from 100 to 400 but then the reduction is negligible when Re is greater than 400.\n",
    "               </ul>"
   ]
  },
  {
   "cell_type": "markdown",
   "metadata": {},
   "source": [
    "## Surface structure and dimensional effects on the aerodynamics of an owl-based wing model\n",
    "\n",
    "Reference: [Link](https://pubs.acs.org/doi/pdf/10.1021/la2043729)\n",
    "\n",
    "\n",
    "Authors: S. Klän , S. Burgmann, T. Bachmann, M. Klaas, H. Wagner and W. Schröder\n",
    "\n",
    "Institute of Aerodynamics, RWTH Aachen University\n",
    "\n",
    "Institute of Biology II, RWTH Aachen University\n",
    "\n",
    "Institute for Fluid Mechanics and Aerodynamics, TU Darmstadt"
   ]
  },
  {
   "cell_type": "markdown",
   "metadata": {},
   "source": [
    "## Marine crustaceans with hairy appendages: Role of hydrodynamic boundary layers in sensing and feeding"
   ]
  },
  {
   "cell_type": "markdown",
   "metadata": {},
   "source": [
    "Reference: [Link](https://doi.org/10.1103/PhysRevFluids.4.114102)\n",
    "\n",
    "Kaitlyn Hood, M. S. Suryateja Jammalamadaka and A. E. Hosoi\n",
    "\n",
    "Department of Mechanical Engineering, Massachusetts Institute of Technology, Cambridge\n",
    "\n",
    "Center for Research and Interdisciplinarity, Paris"
   ]
  },
  {
   "cell_type": "markdown",
   "metadata": {},
   "source": [
    "**Summary**:<br><br>\n",
    "    \n",
    "The equations of motion for fluids with $Re = O(1)$ are nonlinear and therefore difficult and costly to solve, there has been an emergence of asymptotic and numerical theories to enable rational design with inertia. However, in this regime, results are sensitive to variations in the boundary conditions, and so far theories have been ad-hoc. Inertial flow over complicated and intricate surfaces is an open field for study.\n",
    "\n",
    "To close this gap between biology and rational design, we investigate a bio-inspired model system of **rigid hairs** subject to inertial flow at $Re = O(1)$. To use inertia as a design element, similar to the olfaction mechanism in crustaceans, we need a theory for the flow phase based on experimental parameters such as **hair length, diameter**, and **spacing length**."
   ]
  },
  {
   "cell_type": "markdown",
   "metadata": {},
   "source": [
    "**Koehl et al. observed that crustaceans flick their antennae at different speeds, intentionally manipulating the Reynolds number to achieve different states of flow. **\n",
    "\n",
    "The two states observed are called:\n",
    "<li>**rake**, where the **fluid inside the bed of hairs is stagnant**</li><br>\n",
    ", and \n",
    "<li>**sieve**, where the **fluid inside the bed of hairs travels opposite the motion of the antenna**.</li><br> Koehl et al. have conjectured that crustaceans use these different phases of flow to **aid olfaction (sense of smelling/tasting).**"
   ]
  },
  {
   "cell_type": "markdown",
   "metadata": {},
   "source": [
    "**Schematic:**"
   ]
  },
  {
   "cell_type": "markdown",
   "metadata": {},
   "source": [
    "<img src=\"../images/hood19-1.png\" alt=\"Drawing\" style=\"width: 650px;\"/>"
   ]
  },
  {
   "cell_type": "markdown",
   "metadata": {},
   "source": [
    "Features of the flow are set by the smallest length scale in this system, which is the diameter of the hairs, $d_h = 1 mm$. We define the characteristic velocity to be the maximum flow speed $U$ in an undisturbed channel. \n",
    "\n",
    "Then, for water with density $\\rho$ and viscosity $\\mu$, we define the Reynolds number to be: $Re = \\frac{\\rho U d_h}{\\mu}$. \n",
    "\n",
    "**We measure the flow phase as a function of $Re$ and the separation lengths $\\delta$ of the hair bed by measuring the magnitude of the flow velocity in the center of the bed.**"
   ]
  },
  {
   "cell_type": "markdown",
   "metadata": {},
   "source": [
    "<img src=\"../images/hood19-2.png\" alt=\"Drawing\" style=\"width: 650px;\"/>"
   ]
  },
  {
   "cell_type": "markdown",
   "metadata": {},
   "source": [
    "<big>Goal: Design a predictive thepry that Given $Re$ and $\\delta$ predicts the exhibited flow phase.</big>"
   ]
  },
  {
   "cell_type": "markdown",
   "metadata": {},
   "source": [
    "<img src=\"../images/hood19-3.png\" alt=\"Drawing\" style=\"width: 650px;\"/>\n",
    "<img src=\"../images/hood19-4.png\" alt=\"Drawing\" style=\"width: 650px;\"/>\n",
    "<img src=\"../images/hood19-5.png\" alt=\"Drawing\" style=\"width: 650px;\"/>"
   ]
  },
  {
   "cell_type": "markdown",
   "metadata": {},
   "source": [
    "To determine the depth of the boundary layer, we consider the $p = −0.1$ level set (The boundary that encloses the region where $\\vert\\frac{w'}{U}\\vert>0.1$)<br>\n",
    "then measure the critical radius ($r_c$) vs. $Re$ (Fig. 3)<br>\n",
    "Fit the resulting curve (Fig. 3)<br>\n",
    "Measure the disturbance flow velocity $w'$ (Fig. 4)<br>"
   ]
  },
  {
   "cell_type": "markdown",
   "metadata": {},
   "source": [
    "Defined measurables (flow is in $z$ direction):\n",
    "    \n",
    "<li>$\\frac{\\langle w \\rangle}{U}$ vs. $Re$</li>\n",
    "<li>$\\frac{\\delta}{L_h}$ vs. $Re$</li>\n",
    "<li>$\\theta$ vs. $Re$</li>\n"
   ]
  },
  {
   "cell_type": "markdown",
   "metadata": {},
   "source": [
    "## Interaction between hairy surfaces and turbulence for different surface time scales"
   ]
  },
  {
   "cell_type": "markdown",
   "metadata": {},
   "source": [
    "Reference: [Link](https://www.cambridge.org/core/services/aop-cambridge-core/content/view/3EF8797679D529AA393F7D41FCD93B70/S0022112018009357a.pdf/interaction_between_hairy_surfaces_and_turbulence_for_different_surface_time_scales.pdf)\n",
    "\n",
    "Johan Sundin and Shervin Bagheri\n",
    "\n",
    "Linné FLOW Centre, KTH Mechanics, Royal Institute of Technology, Sweden"
   ]
  },
  {
   "cell_type": "markdown",
   "metadata": {},
   "source": [
    "### Summary:\n",
    "\n",
    "The interaction between hairy surfaces and turbulent flows is here investigated numerically in a turbulent channel flow configuration at friction Reynolds number $Re_{\\tau} \\approx 180$. \n",
    "\n",
    "We show that a filamentous bed of a given geometry can modify a turbulent flow very differently depending on the resonance frequency of the surface, which is determined by the elasticity and mass of the filaments."
   ]
  },
  {
   "cell_type": "markdown",
   "metadata": {},
   "source": [
    "The **dynamics of a hairy surface** is characterised by a certain **time scale**, because **the speed of the filaments is limited by their inertia or, in some cases, by the viscous damping**. \n",
    "\n",
    "**When inertia dominates over viscous damping**, the characteristic **time scale** found from the **Euler–Bernoulli** equation is:\n",
    "\n",
    "$$\n",
    "T \\propto l^2\\sqrt{\\frac{\\rho_{s}A+\\chi}{EI}}\n",
    "$$\n",
    "where\n",
    "$$\n",
    "\\rho_s: \\text{ filament density}\\\\\n",
    "A:\\text{ cross-sectional area}\\\\\n",
    "E:\\text{ Young’s modulus}\\\\\n",
    "I:\\text{ area moment of inertia of a filament}\\\\\n",
    "\\chi=\\rho (s^2 -A)\\\\\n",
    "Re_{\\tau} = \\frac{h u_{\\tau}}{\\nu} \\approx 180\\\\\n",
    "h = \\text{ channel half height}\\\\\n",
    "u_{\\tau} (\\text{ friction velocity}) = \\sqrt{\\frac{\\tau_{wall}}{\\rho}} \\\\\n",
    "\\tau_{wall} : \\text{ effective total shear stress at the wall of interest}\n",
    "$$\n",
    "<ul>\n",
    "    <li>In this investigation **filaments are attached to one channel wall**. They are placed **densely enough** to create a **strong coupling between adjacent filaments**, but with a distance large enough so that **they rarely touch each other**.</li>\n",
    "    <li>We use **one fixed filament geometry**, whereas the **mass density** and the **elasticity** of the filaments **are varied**, changing the time scale of the bed</li>\n",
    "    "
   ]
  },
  {
   "cell_type": "markdown",
   "metadata": {},
   "source": [
    "<img src=\"../images/sundin18-1.png\" alt=\"Drawing\" style=\"width: 650px;\"/>"
   ]
  },
  {
   "cell_type": "markdown",
   "metadata": {},
   "source": [
    "### Non-dimensional filament parameters:\n",
    "\n",
    "\n",
    "Notes:\n",
    "\n",
    "If the filaments are placed densely, the mean fluid velocity inside the bed is very small. The slow flow inside bed means that the force on the filament tips is much larger than the force on the body of the filaments, $F_{tip} ≫f_{body}l$.\n",
    "\n",
    "$q = q(y, t)$ is the streamwise displacement.\n",
    "\n",
    "$\\langle · \\rangle$ will be used to denote the mean value of a quantity in dimensionless variables\n",
    "\n",
    "$T_F: \\text{reference time scale}$\n",
    "\n",
    "$F_{tip}=\\int_{cell-face} \\tau\\,dx\\,dz$\n",
    "\n",
    "$q^* = \\frac{q}{a}, y^* = \\frac{y}{l},t^{*} = \\frac{t}{T_f}\\text{ and }F^* = \\frac{F_{tip}}{\\langle F_{tip}\\rangle}.$\n",
    "\n",
    "We get:\n",
    "\n",
    "$T^*=\\frac{T}{T_f}=\\frac{1}{T_f}\\bigg(l^2\\sqrt{\\frac{\\rho_{s}A+\\chi}{EI}}\\bigg)$\n",
    "\n",
    "and\n",
    "\n",
    "$Q^*=\\frac{Q}{a}=\\frac{F_{tip}\\,l^3}{EIa}$\n",
    "\n",
    "The latter number represents a **Cauchy number**, which describes the static deformation under the effect of shear force, i.e. $Q^∗ \\approx ⟨q^∗(0, t)⟩$, where $⟨q^∗(0, t)⟩$ is the non-dimensional mean displacement of the filament tip.\n",
    "\n",
    "Therefore, we may expect a bending of the filament under an external tip force $⟨F_{tip}⟩$ when the filament is sufficiently long and soft so that $Q^* \\approx 1$. The displacement of the tip is henceforth denoted with a tilde, so that $\\tilde{q}(t) = q(0, t)$.\n",
    "\n",
    "The former ($T^*$) is commonly referred to as the **reduced velocity**. The numerator $T$ is proportional the period of natural free vibrations of a filament,\n",
    "\n",
    "$$\n",
    "T_n=\\alpha\\,l^2\\sqrt{\\frac{\\rho_{s}A+\\chi}{EI}}\n",
    "$$\n",
    "\n",
    "where $\\alpha = \\frac{2π}{1.8752}$\n",
    "\n",
    "Therefore, sufficiently light and stiff filaments with $T < T_f$ are quick to adapt to external changes on the time scale $T_f$ . On the other hand, very heavy and soft filaments with $T > T_f$ are expected to adapt comparatively slow. A strong fluid–structure interaction is thus expected when both $T^∗$ and $Q^∗$ are order one.\n"
   ]
  },
  {
   "cell_type": "markdown",
   "metadata": {},
   "source": [
    "<img src=\"../images/sundin18-2.png\" alt=\"Drawing\" style=\"width: 650px;\"/>"
   ]
  },
  {
   "cell_type": "markdown",
   "metadata": {},
   "source": [
    "### Benchmarking using FsiFOAM solver of OpenFOAM"
   ]
  },
  {
   "cell_type": "code",
   "execution_count": 24,
   "metadata": {},
   "outputs": [
    {
     "data": {
      "text/plain": [
       "3.04"
      ]
     },
     "execution_count": 24,
     "metadata": {},
     "output_type": "execute_result"
    }
   ],
   "source": [
    "1.6*1.9"
   ]
  },
  {
   "cell_type": "code",
   "execution_count": null,
   "metadata": {},
   "outputs": [],
   "source": []
  }
 ],
 "metadata": {
  "kernelspec": {
   "display_name": "Python 3",
   "language": "python",
   "name": "python3"
  },
  "language_info": {
   "codemirror_mode": {
    "name": "ipython",
    "version": 3
   },
   "file_extension": ".py",
   "mimetype": "text/x-python",
   "name": "python",
   "nbconvert_exporter": "python",
   "pygments_lexer": "ipython3",
   "version": "3.6.7"
  }
 },
 "nbformat": 4,
 "nbformat_minor": 2
}
